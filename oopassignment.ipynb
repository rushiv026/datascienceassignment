{
 "cells": [
  {
   "cell_type": "code",
   "execution_count": 10,
   "id": "5d795292-a918-4df3-9ef1-9adda60402ef",
   "metadata": {},
   "outputs": [],
   "source": [
    "'''Q1, Create a vehicle class with an init method having instance variables as name_of_vehicle, max_speed\n",
    "and average_of_vehicle.'''\n",
    "class vehicle:\n",
    "    def __init__(self,name_of_vehicle,max_speed,average_of_vehicle):\n",
    "        self.name_of_vehicle=name_of_vehicle\n",
    "        self.max_speed=max_speed\n",
    "        self.average_of_vehicle=average_of_vehicle\n",
    "        \n",
    "    def return_vehicle(self):\n",
    "        return self.name_of_vehicle,self.max_speed,self.average_of_vehicle"
   ]
  },
  {
   "cell_type": "code",
   "execution_count": 12,
   "id": "e6d27c1a-7fcb-4883-965e-170e8d9396de",
   "metadata": {},
   "outputs": [],
   "source": [
    "v=vehicle(\"creta\",80,43)"
   ]
  },
  {
   "cell_type": "code",
   "execution_count": 13,
   "id": "667ccfd6-3c75-47b8-8742-08196219a5f8",
   "metadata": {},
   "outputs": [
    {
     "data": {
      "text/plain": [
       "('creta', 80, 43)"
      ]
     },
     "execution_count": 13,
     "metadata": {},
     "output_type": "execute_result"
    }
   ],
   "source": [
    "v.return_vehicle()"
   ]
  },
  {
   "cell_type": "code",
   "execution_count": 24,
   "id": "90679cee-5c44-4d89-b45f-97a36b73568d",
   "metadata": {},
   "outputs": [],
   "source": [
    "'''Q2. Create a child class car from the vehicle class created in Que 1, which will inherit the vehicle class.\n",
    "Create a method named seating_capacity which takes capacity as an argument and returns the name of\n",
    "the vehicle and its seating capacity.'''\n",
    "\n",
    "class vehicle:\n",
    "    def vehicle(self,name_of_vehicle,max_speed,average_of_vehicle):\n",
    "        self.name_of_vehicle=name_of_vehicle\n",
    "        self.max_speed=max_speed\n",
    "        self.average_of_vehicle=average_of_vehicle\n",
    "        \n",
    "    def seating_capacity(self,seating_capacity):\n",
    "        self.seating_capacity=seating_capacity\n",
    "        return self.name_of_vehicle,self.seating_capacity\n",
    "\n",
    "        "
   ]
  },
  {
   "cell_type": "code",
   "execution_count": 25,
   "id": "692dce93-33c5-4430-b57e-cee51bcb1580",
   "metadata": {},
   "outputs": [],
   "source": [
    "class car(vehicle):\n",
    "    pass"
   ]
  },
  {
   "cell_type": "code",
   "execution_count": 26,
   "id": "34c63047-a765-4f0e-9619-a1b14b32c31b",
   "metadata": {},
   "outputs": [],
   "source": [
    "c=car()"
   ]
  },
  {
   "cell_type": "code",
   "execution_count": 27,
   "id": "ff83bbdd-8bc5-4d96-932c-dd73c9e4c742",
   "metadata": {},
   "outputs": [],
   "source": [
    "c.vehicle(\"creta\",80,30)"
   ]
  },
  {
   "cell_type": "code",
   "execution_count": 28,
   "id": "0971bb4d-ab7e-42ca-b18d-8e1bb2b375c7",
   "metadata": {},
   "outputs": [
    {
     "data": {
      "text/plain": [
       "('creta', 6)"
      ]
     },
     "execution_count": 28,
     "metadata": {},
     "output_type": "execute_result"
    }
   ],
   "source": [
    "c.seating_capacity(6)"
   ]
  },
  {
   "cell_type": "code",
   "execution_count": 41,
   "id": "9e4966fe-3adf-44cd-867c-6037bdc36721",
   "metadata": {},
   "outputs": [],
   "source": [
    "'''Q3. What is multiple inheritance? Write a python code to demonstrate multiple inheritance.'''\n",
    "#multiple inheritance mean multiple parent class and only one child class thats means many class extends only one class is called multiple inheritance\n",
    "#for ex:-\n",
    "\n",
    "class demo1:\n",
    "    def first(self,a):\n",
    "        return a \n",
    "class demo2:\n",
    "    def second(self):\n",
    "        return \"this is second class\"\n",
    "class demo_child(demo1,demo2):\n",
    "    pass"
   ]
  },
  {
   "cell_type": "code",
   "execution_count": 42,
   "id": "0e2f994b-feb4-41b3-9d59-08280ce61669",
   "metadata": {},
   "outputs": [],
   "source": [
    "c=demo_child()"
   ]
  },
  {
   "cell_type": "code",
   "execution_count": 43,
   "id": "383d7528-9e47-416f-9ddb-841ae332e9f7",
   "metadata": {},
   "outputs": [
    {
     "data": {
      "text/plain": [
       "20"
      ]
     },
     "execution_count": 43,
     "metadata": {},
     "output_type": "execute_result"
    }
   ],
   "source": [
    "c.first(20)"
   ]
  },
  {
   "cell_type": "code",
   "execution_count": 44,
   "id": "1e555568-0fff-4054-b519-c852084d65ba",
   "metadata": {},
   "outputs": [
    {
     "data": {
      "text/plain": [
       "'this is second class'"
      ]
     },
     "execution_count": 44,
     "metadata": {},
     "output_type": "execute_result"
    }
   ],
   "source": [
    "c.second()"
   ]
  },
  {
   "cell_type": "code",
   "execution_count": 46,
   "id": "2b271d30-d5c1-474c-a76a-d2e5121f65d7",
   "metadata": {},
   "outputs": [],
   "source": [
    "'''Q4. What are getter and setter in python? Create a class and create a getter and a setter method in this\n",
    "class.'''\n",
    "#getter :get keyword  get or return the value\n",
    "#set: set keyword set the value\n",
    "\n",
    "class skill:\n",
    "    def set_name(self,name):\n",
    "        self.name=name\n",
    "    def get_name(self):\n",
    "        return self.name"
   ]
  },
  {
   "cell_type": "code",
   "execution_count": 47,
   "id": "bb9f2284-3223-4ab9-a174-9071449dcc8f",
   "metadata": {},
   "outputs": [],
   "source": [
    "s=skill()"
   ]
  },
  {
   "cell_type": "code",
   "execution_count": 49,
   "id": "6659f10d-826b-4274-9e7c-88a3194f7120",
   "metadata": {},
   "outputs": [],
   "source": [
    "s.set_name(\"data science\")"
   ]
  },
  {
   "cell_type": "code",
   "execution_count": 50,
   "id": "564f629b-e295-4d04-92ce-fd220800362e",
   "metadata": {},
   "outputs": [
    {
     "data": {
      "text/plain": [
       "'data science'"
      ]
     },
     "execution_count": 50,
     "metadata": {},
     "output_type": "execute_result"
    }
   ],
   "source": [
    "s.get_name()"
   ]
  },
  {
   "cell_type": "code",
   "execution_count": 59,
   "id": "4867828e-fc75-47d8-acb7-46f5caf192d5",
   "metadata": {},
   "outputs": [],
   "source": [
    "'''Q5.What is method overriding in python? Write a python code to demonstrate method overriding.'''\n",
    "#method overriding :-same method name parent class and child class\n",
    "class parent_demo:\n",
    "    def show(self):\n",
    "        return \"this is parent class\"\n",
    "    def brock(self):\n",
    "        return \"this is brock method\"\n",
    "class child_demo(parent_demo):\n",
    "    def show(self):\n",
    "        return \"this is child class\"\n",
    "    "
   ]
  },
  {
   "cell_type": "code",
   "execution_count": 62,
   "id": "760fa826-6a7e-4a9d-ba00-a7c3db3d69b5",
   "metadata": {},
   "outputs": [],
   "source": [
    "c1=child_demo()\n",
    "c2=parent_demo()"
   ]
  },
  {
   "cell_type": "code",
   "execution_count": 61,
   "id": "349ba437-75d0-4532-92e7-fc8c63d41e31",
   "metadata": {},
   "outputs": [
    {
     "data": {
      "text/plain": [
       "'this is child class'"
      ]
     },
     "execution_count": 61,
     "metadata": {},
     "output_type": "execute_result"
    }
   ],
   "source": [
    "c1.show()"
   ]
  },
  {
   "cell_type": "code",
   "execution_count": 63,
   "id": "a070641a-2721-406f-ae02-cb11a86de669",
   "metadata": {},
   "outputs": [
    {
     "data": {
      "text/plain": [
       "'this is parent class'"
      ]
     },
     "execution_count": 63,
     "metadata": {},
     "output_type": "execute_result"
    }
   ],
   "source": [
    "c2.show()"
   ]
  }
 ],
 "metadata": {
  "kernelspec": {
   "display_name": "Python 3 (ipykernel)",
   "language": "python",
   "name": "python3"
  },
  "language_info": {
   "codemirror_mode": {
    "name": "ipython",
    "version": 3
   },
   "file_extension": ".py",
   "mimetype": "text/x-python",
   "name": "python",
   "nbconvert_exporter": "python",
   "pygments_lexer": "ipython3",
   "version": "3.10.8"
  }
 },
 "nbformat": 4,
 "nbformat_minor": 5
}
