{
 "cells": [
  {
   "cell_type": "code",
   "execution_count": 16,
   "id": "a9897a80-c9e0-4baa-a672-0578903e6795",
   "metadata": {},
   "outputs": [],
   "source": [
    "#Q1. What is Abstraction in OOps? Explain with an example.\n",
    "''' abstract :-abstract is consider as  blueprint of classes method\n",
    "  -it means  we are declare the method as a abstract\n",
    "  -Abstraction is what we call hiding the internal process of the program from the users'''\n",
    "import abc\n",
    "class  person:\n",
    "    @abc.abstractmethod\n",
    "    def actions(self):\n",
    "        pass\n",
    "    @abc.abstractmethod\n",
    "    def sport(self):\n",
    "        \n",
    "        pass\n",
    "        \n",
    "    "
   ]
  },
  {
   "cell_type": "code",
   "execution_count": 17,
   "id": "5755a87f-b97a-47a9-8307-260cce51aac2",
   "metadata": {},
   "outputs": [],
   "source": [
    "class amol(person):\n",
    "    def actions(self):\n",
    "        return \"amol going school\"\n",
    "    def sport(self):\n",
    "        return \"amol played football\"\n",
    "    "
   ]
  },
  {
   "cell_type": "code",
   "execution_count": 20,
   "id": "d81ae960-1301-4498-a81b-8ca280c403c0",
   "metadata": {},
   "outputs": [],
   "source": [
    "a=amol()"
   ]
  },
  {
   "cell_type": "code",
   "execution_count": 14,
   "id": "aab83533-c670-4b2b-a18c-641ab4ed25fa",
   "metadata": {},
   "outputs": [
    {
     "data": {
      "text/plain": [
       "'amol going school'"
      ]
     },
     "execution_count": 14,
     "metadata": {},
     "output_type": "execute_result"
    }
   ],
   "source": [
    "a.actions()"
   ]
  },
  {
   "cell_type": "code",
   "execution_count": 21,
   "id": "f32a453b-7a7e-4604-aeab-6fdadc445863",
   "metadata": {},
   "outputs": [
    {
     "data": {
      "text/plain": [
       "'amol played football'"
      ]
     },
     "execution_count": 21,
     "metadata": {},
     "output_type": "execute_result"
    }
   ],
   "source": [
    "a.sport()\n"
   ]
  },
  {
   "cell_type": "code",
   "execution_count": 22,
   "id": "873e2ca8-0b64-4e36-8945-0db1795cf240",
   "metadata": {},
   "outputs": [],
   "source": [
    "class amar(person):\n",
    "    def actions(self):\n",
    "        return \"amar is  a software developer\"\n",
    "    def sport(self):\n",
    "        return \"amar palyed the cricket\""
   ]
  },
  {
   "cell_type": "code",
   "execution_count": 23,
   "id": "0ee9b175-5471-4ad1-89e4-c9838b7afb83",
   "metadata": {},
   "outputs": [],
   "source": [
    "a1=amar()"
   ]
  },
  {
   "cell_type": "code",
   "execution_count": 24,
   "id": "d1c4ac48-445e-4186-82ba-3f1c6088d51f",
   "metadata": {},
   "outputs": [
    {
     "data": {
      "text/plain": [
       "'amar is  a software developer'"
      ]
     },
     "execution_count": 24,
     "metadata": {},
     "output_type": "execute_result"
    }
   ],
   "source": [
    "a1.actions()"
   ]
  },
  {
   "cell_type": "code",
   "execution_count": 25,
   "id": "1666ef1a-9cfd-42a6-b118-ae97f1bfe5a4",
   "metadata": {},
   "outputs": [
    {
     "data": {
      "text/plain": [
       "'amar palyed the cricket'"
      ]
     },
     "execution_count": 25,
     "metadata": {},
     "output_type": "execute_result"
    }
   ],
   "source": [
    "a1.sport()"
   ]
  },
  {
   "cell_type": "code",
   "execution_count": 6,
   "id": "098f007a-bf75-4e88-ba8c-033ca7073961",
   "metadata": {},
   "outputs": [],
   "source": [
    "#Q2. Differentiate between Abstraction and Encapsulation. Explain with an example.\n",
    "\"\"\" abstrction:-abstraction is the blueprint of classes method\n",
    "               -you can create the method as abstract\n",
    "               -firstly import abc ,abc under abstrctmethod\n",
    "               -Abstraction is what we call hiding the internal process of the program from the users\n",
    "encapsulation: -encapsulation means one class uder declare the multiple method and varaible\n",
    "               -collection of method and varaible\n",
    "               -declare the varaible as a pravate\n",
    "               -not import any one default pacjkage\"\"\"\n",
    "#abstrction example Q1 refer\n",
    "#encapculation ex\n",
    "class bank:\n",
    "    def __init__(self,balance):\n",
    "        self.__balance=balance\n",
    "    def deposit(self,amount):\n",
    "        self.__balance=self.__balance+amount\n",
    "    def withdraw(self,amount):\n",
    "        if self.__balance>=amount:\n",
    "            self.__balance=self.__balance-amount\n",
    "        else:\n",
    "            return \"balance is not enought\"\n",
    "    def checkbalance(self):\n",
    "        return self.__balance"
   ]
  },
  {
   "cell_type": "code",
   "execution_count": 7,
   "id": "6ef05892-f491-4627-9ba4-75a57f0c0276",
   "metadata": {},
   "outputs": [],
   "source": [
    "b=bank(1000)\n"
   ]
  },
  {
   "cell_type": "code",
   "execution_count": 8,
   "id": "5be7a377-59d0-4f29-beeb-4b4c083b5094",
   "metadata": {},
   "outputs": [
    {
     "data": {
      "text/plain": [
       "1000"
      ]
     },
     "execution_count": 8,
     "metadata": {},
     "output_type": "execute_result"
    }
   ],
   "source": [
    "b.checkbalance()"
   ]
  },
  {
   "cell_type": "code",
   "execution_count": 9,
   "id": "9b2049d1-a5cb-4861-8f33-0e8d3d4dc920",
   "metadata": {},
   "outputs": [
    {
     "data": {
      "text/plain": [
       "'balance is not enought'"
      ]
     },
     "execution_count": 9,
     "metadata": {},
     "output_type": "execute_result"
    }
   ],
   "source": [
    "b.withdraw(2000)"
   ]
  },
  {
   "cell_type": "code",
   "execution_count": 10,
   "id": "c660e3af-529a-4cd3-bc66-d27dd9c8418a",
   "metadata": {},
   "outputs": [],
   "source": [
    "b.withdraw(500)"
   ]
  },
  {
   "cell_type": "code",
   "execution_count": 11,
   "id": "9219ea32-68d3-4938-b2e8-bf3945da64bf",
   "metadata": {},
   "outputs": [
    {
     "data": {
      "text/plain": [
       "500"
      ]
     },
     "execution_count": 11,
     "metadata": {},
     "output_type": "execute_result"
    }
   ],
   "source": [
    "b.checkbalance()"
   ]
  },
  {
   "cell_type": "code",
   "execution_count": 12,
   "id": "50e1b899-54d7-449c-9f4a-aef0e48476a5",
   "metadata": {},
   "outputs": [],
   "source": [
    "#Q3. What is abc module in python? Why is it used?\n",
    "'''Python is not a fully object-oriented programming language but it \n",
    "supports the features like abstract classes and abstraction. We cannot\n",
    "create abstract classes directly in Python, so Python provides a module called abc\n",
    "that provides the infrastructure for defining the base of Abstract Base Classes(ABC).'''\n",
    "import abc \n",
    "class demo:\n",
    "    @abc.abstractmethod\n",
    "    @abc.abstractclassmethod\n",
    "    def move(self):\n",
    "        pass"
   ]
  },
  {
   "cell_type": "code",
   "execution_count": null,
   "id": "98c2643e-5ad7-485c-ba3f-24c71346c0e0",
   "metadata": {},
   "outputs": [],
   "source": [
    "#Q4How can we achieve data abstraction?\n",
    "'''you can use abc(abstract base classes) module to achive the data abstract\n",
    "-define an abstract method using @abstractmethod keyword on the top of a method'''"
   ]
  },
  {
   "cell_type": "code",
   "execution_count": 13,
   "id": "1a86c932-c748-48dc-bdc0-f69d9874454e",
   "metadata": {},
   "outputs": [],
   "source": [
    "#Q5. Can we create an instance of an abstract class? Explain your answer.\n",
    "import abc\n",
    "class student_method:\n",
    "    @abc.abstractmethod\n",
    "    def student_details(self):\n",
    "        pass\n",
    "    @abc.abstractmethod\n",
    "    def aiclass_work(self,a,b):\n",
    "        pass"
   ]
  },
  {
   "cell_type": "code",
   "execution_count": 14,
   "id": "d2169132-2c28-453c-8649-a8026b9f67de",
   "metadata": {},
   "outputs": [],
   "source": [
    "class data_master(student_method):\n",
    "    def student_details(self):\n",
    "        return \"this is student details\"\n",
    "    def aiclass_work(self,a,b):\n",
    "        return a+b"
   ]
  },
  {
   "cell_type": "code",
   "execution_count": 15,
   "id": "007864e6-77bd-4aed-aba5-85b95d3c628d",
   "metadata": {},
   "outputs": [],
   "source": [
    "class my(student_method):\n",
    "    def student_details(self):\n",
    "        return \"my name is rushikesh\"\n",
    "    def aiclass_work(self,a,b):\n",
    "        return a*b"
   ]
  },
  {
   "cell_type": "code",
   "execution_count": 16,
   "id": "e35da525-ae5b-446a-8ecf-e7439f773328",
   "metadata": {},
   "outputs": [],
   "source": [
    "dm=data_master()"
   ]
  },
  {
   "cell_type": "code",
   "execution_count": 17,
   "id": "5d7d01d0-71bc-4712-a2ee-35ef72544b50",
   "metadata": {},
   "outputs": [
    {
     "data": {
      "text/plain": [
       "20"
      ]
     },
     "execution_count": 17,
     "metadata": {},
     "output_type": "execute_result"
    }
   ],
   "source": [
    "dm.aiclass_work(10,10)"
   ]
  },
  {
   "cell_type": "code",
   "execution_count": 18,
   "id": "04207095-5fd9-4978-a5ba-89ca6601411b",
   "metadata": {},
   "outputs": [
    {
     "data": {
      "text/plain": [
       "'this is student details'"
      ]
     },
     "execution_count": 18,
     "metadata": {},
     "output_type": "execute_result"
    }
   ],
   "source": [
    "dm.student_details()"
   ]
  },
  {
   "cell_type": "code",
   "execution_count": 19,
   "id": "13aff9d5-4680-4309-b9fb-c0c72586d5e6",
   "metadata": {},
   "outputs": [],
   "source": [
    "m=my()"
   ]
  },
  {
   "cell_type": "code",
   "execution_count": 20,
   "id": "ed0a20ef-797b-45de-959f-ee3f6b0cd941",
   "metadata": {},
   "outputs": [
    {
     "data": {
      "text/plain": [
       "100"
      ]
     },
     "execution_count": 20,
     "metadata": {},
     "output_type": "execute_result"
    }
   ],
   "source": [
    "m.aiclass_work(10,10)"
   ]
  },
  {
   "cell_type": "code",
   "execution_count": 21,
   "id": "7909d25f-785b-4fa6-bdb6-004d00cb91f0",
   "metadata": {},
   "outputs": [
    {
     "data": {
      "text/plain": [
       "'my name is rushikesh'"
      ]
     },
     "execution_count": 21,
     "metadata": {},
     "output_type": "execute_result"
    }
   ],
   "source": [
    "m.student_details()"
   ]
  },
  {
   "cell_type": "code",
   "execution_count": null,
   "id": "bae3e75a-8660-424f-9ad3-6e2bfc8dbc4d",
   "metadata": {},
   "outputs": [],
   "source": []
  }
 ],
 "metadata": {
  "kernelspec": {
   "display_name": "Python 3 (ipykernel)",
   "language": "python",
   "name": "python3"
  },
  "language_info": {
   "codemirror_mode": {
    "name": "ipython",
    "version": 3
   },
   "file_extension": ".py",
   "mimetype": "text/x-python",
   "name": "python",
   "nbconvert_exporter": "python",
   "pygments_lexer": "ipython3",
   "version": "3.10.8"
  }
 },
 "nbformat": 4,
 "nbformat_minor": 5
}
